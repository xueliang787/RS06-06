{
  "nbformat": 4,
  "nbformat_minor": 0,
  "metadata": {
    "colab": {
      "name": "SVD++.ipynb",
      "provenance": []
    },
    "kernelspec": {
      "name": "python3",
      "display_name": "Python 3"
    }
  },
  "cells": [
    {
      "cell_type": "code",
      "metadata": {
        "id": "8AN_ndfyLPRz",
        "colab_type": "code",
        "colab": {
          "base_uri": "https://localhost:8080/",
          "height": 202
        },
        "outputId": "338ac2e0-4017-4d48-c5b2-01d2a39c36a3"
      },
      "source": [
        "!pip install surprise\n",
        "from surprise import SVDpp\n",
        "from surprise import Dataset\n",
        "from surprise.model_selection import cross_validate\n",
        "from surprise import Reader\n",
        "from surprise import accuracy\n",
        "from surprise.model_selection import KFold\n",
        "import pandas as pd\n",
        "import time\n",
        "\n",
        "\n",
        "from google.colab import drive\n",
        "drive.mount('/content/drive')\n",
        "import os\n",
        "os.chdir(\"/content/drive/My Drive/Colab Notebooks/\")\n",
        "\n",
        "time1=time.time()\n",
        "\n",
        "# 数据读取\n",
        "reader = Reader(line_format='user item rating timestamp', sep=',', skip_lines=1)\n",
        "data = Dataset.load_from_file('ratings_small.csv', reader=reader)\n",
        "train_set = data.build_full_trainset()\n",
        "\n",
        "# 使用SVD++\n",
        "algo = SVDpp()\n",
        "\n",
        "# 定义K折交叉验证迭代器，K=3\n",
        "kf = KFold(n_splits=3)\n",
        "for trainset, testset in kf.split(data):\n",
        "    # 训练并预测\n",
        "    algo.fit(trainset)\n",
        "    predictions = algo.test(testset)\n",
        "    # 计算RMSE\n",
        "    accuracy.rmse(predictions, verbose=True)\n",
        "\n",
        "time2=time.time()\n",
        "print(time2-time1)"
      ],
      "execution_count": 5,
      "outputs": [
        {
          "output_type": "stream",
          "text": [
            "Requirement already satisfied: surprise in /usr/local/lib/python3.6/dist-packages (0.1)\n",
            "Requirement already satisfied: scikit-surprise in /usr/local/lib/python3.6/dist-packages (from surprise) (1.1.0)\n",
            "Requirement already satisfied: six>=1.10.0 in /usr/local/lib/python3.6/dist-packages (from scikit-surprise->surprise) (1.12.0)\n",
            "Requirement already satisfied: numpy>=1.11.2 in /usr/local/lib/python3.6/dist-packages (from scikit-surprise->surprise) (1.17.5)\n",
            "Requirement already satisfied: joblib>=0.11 in /usr/local/lib/python3.6/dist-packages (from scikit-surprise->surprise) (0.14.1)\n",
            "Requirement already satisfied: scipy>=1.0.0 in /usr/local/lib/python3.6/dist-packages (from scikit-surprise->surprise) (1.4.1)\n",
            "Drive already mounted at /content/drive; to attempt to forcibly remount, call drive.mount(\"/content/drive\", force_remount=True).\n",
            "RMSE: 0.8966\n",
            "RMSE: 0.8883\n",
            "RMSE: 0.8958\n",
            "930.3732051849365\n"
          ],
          "name": "stdout"
        }
      ]
    }
  ]
}