{
 "cells": [
  {
   "cell_type": "markdown",
   "metadata": {},
   "source": [
    "### Thinking1 奇异值分解SVD的原理是怎样的，都有哪些应用场景"
   ]
  },
  {
   "cell_type": "markdown",
   "metadata": {},
   "source": [
    "##### 奇异值分解的原理：\n",
    "    很多矩阵都是非对称的，即m * n。将矩阵A分别左乘和右乘A的转置矩阵，得到两个对称矩阵。求这两个对称矩阵的特征值和特征向量。将这两个矩阵的特征值按照从大到小的顺序选取min（m,n）个,并开方作为对角矩阵的特征值。左奇异矩阵和右奇异矩阵为对应特征向量的矩阵。其中左奇异矩阵为m * m维，右奇异矩阵为n * n维。将三个矩阵乘起来就还原了矩阵A。"
   ]
  },
  {
   "cell_type": "markdown",
   "metadata": {},
   "source": [
    "##### 使用场景\n",
    "    和PCA一样，SVD可以用作降维的方法。比如在图像保存少量的信息就可以还原大部分图像信息。\n",
    "    在推荐系统中可以对一个稠密矩阵补全，通过SVD可以无损分解为三个矩阵，将三个矩阵乘起来就补全了矩阵。\n",
    "  "
   ]
  },
  {
   "cell_type": "markdown",
   "metadata": {},
   "source": [
    "### Thinking2 funkSVD, BiasSVD，SVD++算法之间的区别是怎样的\n",
    "\n"
   ]
  },
  {
   "cell_type": "markdown",
   "metadata": {},
   "source": [
    "##### FunkSVD算法\n",
    "    避开稀疏问题，只用两个矩阵相乘；\n",
    "    损失函数为矩阵乘积得到的评分，与实际评分只差。"
   ]
  },
  {
   "cell_type": "markdown",
   "metadata": {},
   "source": [
    "##### BiasSVD\n",
    "    而BiasSVD的区别是，其中的评分通过计算整体平均数，还有用户偏好和商品偏好。\n",
    "    目标函数和FunkSVD不同，正则项多了用户偏好和商品偏好"
   ]
  },
  {
   "cell_type": "markdown",
   "metadata": {},
   "source": [
    "##### SVD++\n",
    "    SVD++是在BiasSVD基础上进行了改进，考虑了用户的隐式反馈。\n",
    "    隐式反馈一般来说没有具体的评分，比如点击浏览行为。\n",
    "    目标函数要考虑用户的隐式反馈修正值，正则项相比BiasSVD和FunkSVD也不同。多了隐式反馈的一项。"
   ]
  },
  {
   "cell_type": "markdown",
   "metadata": {},
   "source": [
    "### Thinking3 矩阵分解算法在推荐系统中有哪些应用场景，存在哪些不足"
   ]
  },
  {
   "cell_type": "markdown",
   "metadata": {},
   "source": [
    "##### 应用场景\n",
    "    可以通过矩阵分解算法，来补全评分矩阵，预测用户评分，根据用户评分高低来推荐商品。\n",
    "    可以通过矩阵分解算法降维，通过少量的特征求近似解或者保存信息。"
   ]
  },
  {
   "cell_type": "markdown",
   "metadata": {},
   "source": [
    "##### 不足\n",
    "    矩阵分解算法比较适合矩阵是稠密的，而不是稀疏的。\n",
    "    但是实际推荐中，评分矩阵往往都是稀疏矩阵。这时候使用矩阵分解算法得到的矩阵不太准确而且计算量比较大。"
   ]
  },
  {
   "cell_type": "markdown",
   "metadata": {},
   "source": [
    "### Thinking4 item流行度在推荐系统中有怎样的应用"
   ]
  },
  {
   "cell_type": "markdown",
   "metadata": {},
   "source": [
    "##### 冷启动中的使用\n",
    "    遇到冷启动的问题，当用户行为信息不足时，采用非个性化推荐。\n",
    "    什么内容吸引用户，就给用户推荐什么内容。但是也要有一些区分性。提供具有较高覆盖率的启动item集合等等。"
   ]
  },
  {
   "cell_type": "markdown",
   "metadata": {},
   "source": [
    "##### 协同过滤中的TopN推荐\n",
    "    协同过滤中用户是否相似，应该考虑共同item的流行度，可以将相似度计算改成修正过的相似度计算等等。"
   ]
  },
  {
   "cell_type": "markdown",
   "metadata": {},
   "source": [
    "##### 其他使用\n",
    "    根据长尾理论，挖掘商品的长尾。对于新用户，采用非个性化推荐（基于流行度的推荐）。对于老用户，可以考虑高流行度对商品推荐的降权影响，挖掘长尾\n",
    "    考虑不同网站的特性电商网站，比如唯品会特卖，目标是打造爆款。婚恋网站，比如世纪佳缘，目标是让更多人活跃起来。"
   ]
  },
  {
   "cell_type": "markdown",
   "metadata": {},
   "source": [
    "### Thinking5 推荐系统的召回阶段都有哪些策略\n"
   ]
  },
  {
   "cell_type": "markdown",
   "metadata": {},
   "source": [
    "##### 策略 \n",
    "    以内容为索引召回\n",
    "    以用户为索引召回\n",
    "    以设备为索引召回\n",
    "    向量化召回等"
   ]
  },
  {
   "cell_type": "markdown",
   "metadata": {},
   "source": [
    "### Action1 选择任意一张图片，对其进行灰度化，然后使用SVD进行图像的重构，当奇异值数量为原有的1%，10%，50%时，输出重构后的图像\n"
   ]
  },
  {
   "cell_type": "markdown",
   "metadata": {},
   "source": [
    "##### 代码在svd_image.ipynb文件中 使用 360wallpaper.bmp 图片"
   ]
  },
  {
   "cell_type": "markdown",
   "metadata": {},
   "source": [
    "### Action2 使用Google Colab编辑器，对MovieLens数据集进行评分预测，计算RMSE（使用funkSVD, BiasSVD，SVD++）"
   ]
  },
  {
   "cell_type": "markdown",
   "metadata": {},
   "source": [
    "##### 详情请见 BiasSVD.ipynb，FunkSVD.ipynb，SVDpp.ipynb,DeepFM_cpu.ipynb,DeepFM_gpu.ipynb"
   ]
  },
  {
   "cell_type": "markdown",
   "metadata": {},
   "source": [
    "### Action3 使用PowerBI（或其他工具），对nCoV数据进行可视化呈现"
   ]
  },
  {
   "cell_type": "markdown",
   "metadata": {},
   "source": [
    "##### 详情请见 按照确诊人数绘制地图.png，按照确诊人数降序排列.png,对城市按照确诊人数降序排列.png"
   ]
  }
 ],
 "metadata": {
  "kernelspec": {
   "display_name": "Python 3",
   "language": "python",
   "name": "python3"
  },
  "language_info": {
   "codemirror_mode": {
    "name": "ipython",
    "version": 3
   },
   "file_extension": ".py",
   "mimetype": "text/x-python",
   "name": "python",
   "nbconvert_exporter": "python",
   "pygments_lexer": "ipython3",
   "version": "3.7.4"
  }
 },
 "nbformat": 4,
 "nbformat_minor": 4
}
